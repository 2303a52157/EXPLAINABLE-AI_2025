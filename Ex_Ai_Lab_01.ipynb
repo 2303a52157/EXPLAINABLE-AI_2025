{
  "nbformat": 4,
  "nbformat_minor": 0,
  "metadata": {
    "colab": {
      "provenance": []
    },
    "kernelspec": {
      "name": "python3",
      "display_name": "Python 3"
    },
    "language_info": {
      "name": "python"
    }
  },
  "cells": [
    {
      "cell_type": "markdown",
      "source": [
        "#  LAB ASSIGNMENT-1\n",
        "\n",
        "2303A52157\n",
        "\n",
        "BATCH:34"
      ],
      "metadata": {
        "id": "dnhdnDJKVUUN"
      }
    },
    {
      "cell_type": "markdown",
      "source": [
        "**🔹 Q1: DriveFast – Car Rental App (Simple Linear Regression + SHAP)**"
      ],
      "metadata": {
        "id": "fJpCZu_6VIIZ"
      }
    },
    {
      "cell_type": "code",
      "execution_count": null,
      "metadata": {
        "colab": {
          "base_uri": "https://localhost:8080/"
        },
        "id": "9u0x1WPJVB29",
        "outputId": "c993e702-96fb-4e7a-db78-2aa2bec5ecc5"
      },
      "outputs": [
        {
          "output_type": "stream",
          "name": "stdout",
          "text": [
            "Model: y = 18.85 + 11.73x\n",
            "Baseline (mean of bookings): 47.00\n",
            "   AppDownloads (x100s)  Actual Bookings  Predicted Bookings  SHAP Value  \\\n",
            "0                     2               40               42.31       -4.69   \n",
            "1                     3               55               54.04        7.04   \n",
            "2                     1               30               30.58      -16.42   \n",
            "3                     2               45               42.31       -4.69   \n",
            "4                     4               65               65.77       18.77   \n",
            "\n",
            "  Over/Under  \n",
            "0       Over  \n",
            "1      Under  \n",
            "2       Over  \n",
            "3      Under  \n",
            "4       Over  \n"
          ]
        }
      ],
      "source": [
        "# Q1: DriveFast – Car Rental App Analysis\n",
        "import numpy as np\n",
        "import pandas as pd\n",
        "import matplotlib.pyplot as plt\n",
        "from sklearn.linear_model import LinearRegression\n",
        "\n",
        "downloads = np.array([2, 3, 1, 2, 4]).reshape(-1, 1)\n",
        "bookings = np.array([40, 55, 30, 45, 65])\n",
        "\n",
        "model = LinearRegression()\n",
        "model.fit(downloads, bookings)\n",
        "\n",
        "slope = model.coef_[0]\n",
        "intercept = model.intercept_\n",
        "\n",
        "print(f\"Model: y = {intercept:.2f} + {slope:.2f}x\")\n",
        "\n",
        "baseline = np.mean(bookings)\n",
        "print(f\"Baseline (mean of bookings): {baseline:.2f}\")\n",
        "\n",
        "predictions = model.predict(downloads)\n",
        "shap_values = predictions - baseline\n",
        "\n",
        "results = pd.DataFrame({\n",
        "    \"AppDownloads (x100s)\": downloads.flatten(),\n",
        "    \"Actual Bookings\": bookings,\n",
        "    \"Predicted Bookings\": predictions.round(2),\n",
        "    \"SHAP Value\": shap_values.round(2),\n",
        "    \"Over/Under\": [\"Under\" if p < a else \"Over\" if p > a else \"Exact\" for p, a in zip(predictions, bookings)]\n",
        "})\n",
        "\n",
        "print(results)\n"
      ]
    },
    {
      "cell_type": "markdown",
      "source": [
        "**🔹 Q2: DriveFast – Car Rental Demand (Multiple Linear Regression + SHAP)**"
      ],
      "metadata": {
        "id": "SI5kKwPPV7X0"
      }
    },
    {
      "cell_type": "code",
      "source": [
        "#Q2: Multiple Linear Regression with SHAP decomposition\n",
        "import numpy as np\n",
        "import pandas as pd\n",
        "from sklearn.linear_model import LinearRegression\n",
        "\n",
        "\n",
        "X = pd.DataFrame({\n",
        "    \"FuelPrice\": [90, 85, 95, 80, 92],\n",
        "    \"Holiday\": [0, 1, 0, 1, 0]\n",
        "})\n",
        "y = np.array([100, 130, 90, 140, 95])\n",
        "\n",
        "model = LinearRegression()\n",
        "model.fit(X, y)\n",
        "\n",
        "coef = model.coef_\n",
        "intercept = model.intercept_\n",
        "print(f\"Model: y = {intercept:.2f} + {coef[0]:.2f}*FuelPrice + {coef[1]:.2f}*Holiday\")\n",
        "\n",
        "baseline = np.mean(y)\n",
        "print(f\"Baseline: {baseline:.2f}\")\n",
        "\n",
        "preds = model.predict(X)\n",
        "shap_values = preds - baseline\n",
        "shap_fuel = coef[0] * (X[\"FuelPrice\"] - X[\"FuelPrice\"].mean())\n",
        "shap_holiday = coef[1] * (X[\"Holiday\"] - X[\"Holiday\"].mean())\n",
        "\n",
        "results = pd.DataFrame({\n",
        "    \"FuelPrice\": X[\"FuelPrice\"],\n",
        "    \"Holiday\": X[\"Holiday\"],\n",
        "    \"Actual Rentals\": y,\n",
        "    \"Predicted Rentals\": preds.round(2),\n",
        "    \"SHAP FuelPrice\": shap_fuel.round(2),\n",
        "    \"SHAP Holiday\": shap_holiday.round(2),\n",
        "    \"SHAP Total\": shap_values.round(2),\n",
        "    \"Over/Under\": [\"Under\" if p < a else \"Over\" if p > a else \"Exact\" for p, a in zip(preds, y)]\n",
        "})\n",
        "\n",
        "print(results)\n"
      ],
      "metadata": {
        "colab": {
          "base_uri": "https://localhost:8080/"
        },
        "id": "o9N3zlaGV_Ho",
        "outputId": "a7d59c9c-3535-46b3-84b0-bd82d8ff22ce"
      },
      "execution_count": null,
      "outputs": [
        {
          "output_type": "stream",
          "name": "stdout",
          "text": [
            "Model: y = 278.44 + -1.99*FuelPrice + 20.46*Holiday\n",
            "Baseline: 111.00\n",
            "   FuelPrice  Holiday  Actual Rentals  Predicted Rentals  SHAP FuelPrice  \\\n",
            "0         90        0             100              99.64           -3.18   \n",
            "1         85        1             130             130.03            6.75   \n",
            "2         95        0              90              89.70          -13.11   \n",
            "3         80        1             140             139.97           16.69   \n",
            "4         92        0              95              95.66           -7.15   \n",
            "\n",
            "   SHAP Holiday  SHAP Total Over/Under  \n",
            "0         -8.19      -11.36      Under  \n",
            "1         12.28       19.03       Over  \n",
            "2         -8.19      -21.30      Under  \n",
            "3         12.28       28.97      Under  \n",
            "4         -8.19      -15.34       Over  \n"
          ]
        }
      ]
    },
    {
      "cell_type": "markdown",
      "source": [
        "**🔹 Q3: Diabetes Dataset Regression + SHAP**"
      ],
      "metadata": {
        "id": "B0NYgqWsWSFg"
      }
    },
    {
      "cell_type": "code",
      "source": [
        "# Q3: Diabetes Dataset - Regression + SHAP\n",
        "import numpy as np\n",
        "import pandas as pd\n",
        "from sklearn.datasets import load_diabetes\n",
        "from sklearn.linear_model import LinearRegression\n",
        "from sklearn.model_selection import train_test_split\n",
        "\n",
        "data = load_diabetes()\n",
        "X = pd.DataFrame(data.data, columns=data.feature_names)\n",
        "y = data.target\n",
        "X_train, X_test, y_train, y_test = train_test_split(X, y, random_state=42)\n",
        "\n",
        "model = LinearRegression()\n",
        "model.fit(X_train, y_train)\n",
        "\n",
        "coef = model.coef_\n",
        "intercept = model.intercept_\n",
        "\n",
        "baseline = np.mean(y_train)\n",
        "print(f\"Baseline (mean of target): {baseline:.2f}\")\n",
        "\n",
        "y_pred = model.predict(X_test)\n",
        "shap_values = y_pred - baseline\n",
        "feature_shap = X_test.mul(coef, axis=1)\n",
        "\n",
        "summary = pd.DataFrame(feature_shap.sum(axis=1), columns=[\"SHAP Total\"])\n",
        "summary[\"Baseline\"] = baseline\n",
        "summary[\"Predicted\"] = y_pred\n",
        "summary[\"Actual\"] = y_test\n",
        "summary[\"Over/Under\"] = [\"Under\" if p < a else \"Over\" if p > a else \"Exact\" for p, a in zip(y_pred, y_test)]\n",
        "\n",
        "print(summary.head())"
      ],
      "metadata": {
        "colab": {
          "base_uri": "https://localhost:8080/"
        },
        "id": "AGhwqnpDWYtV",
        "outputId": "0c2619ec-4c7e-490a-8f22-13e6713436cc"
      },
      "execution_count": null,
      "outputs": [
        {
          "output_type": "stream",
          "name": "stdout",
          "text": [
            "Baseline (mean of target): 154.34\n",
            "     SHAP Total    Baseline   Predicted  Actual Over/Under\n",
            "287  -13.716087  154.344411  137.949089   219.0      Under\n",
            "211   30.868178  154.344411  182.533354    70.0       Over\n",
            "72   -21.812222  154.344411  129.852954   202.0      Under\n",
            "321  140.897917  154.344411  292.563092   230.0       Over\n",
            "73   -26.797293  154.344411  124.867882   111.0       Over\n"
          ]
        }
      ]
    },
    {
      "cell_type": "markdown",
      "source": [
        "**🔹 Q4: Student Performance Dataset Regression + SHAP**"
      ],
      "metadata": {
        "id": "HKbyLN4cWsyL"
      }
    },
    {
      "cell_type": "code",
      "source": [
        "import pandas as pd\n",
        "import zipfile\n",
        "import urllib.request\n",
        "from sklearn.model_selection import train_test_split\n",
        "from sklearn.linear_model import LinearRegression\n",
        "import numpy as np\n",
        "\n",
        "url = \"https://archive.ics.uci.edu/ml/machine-learning-databases/00320/student.zip\"\n",
        "urllib.request.urlretrieve(url, \"student.zip\")\n",
        "\n",
        "with zipfile.ZipFile(\"student.zip\", 'r') as zip_ref:\n",
        "    zip_ref.extractall()\n",
        "\n",
        "df = pd.read_csv(\"student-mat.csv\", sep=';')\n",
        "\n",
        "features = ['studytime', 'failures', 'absences', 'Medu', 'Fedu']\n",
        "target = 'G3'\n",
        "\n",
        "X = df[features]\n",
        "y = df[target]\n",
        "\n",
        "X_train, X_test, y_train, y_test = train_test_split(X, y, random_state=42)\n",
        "\n",
        "model = LinearRegression()\n",
        "model.fit(X_train, y_train)\n",
        "\n",
        "coefs = model.coef_\n",
        "intercept = model.intercept_\n",
        "baseline = y_train.mean()\n",
        "\n",
        "print(f\"\\nModel: G3 = {intercept:.2f} + \" + \" + \".join([f\"{c:.2f}*{f}\" for c, f in zip(coefs, features)]))\n",
        "print(f\"Baseline (mean final grade G3): {baseline:.2f}\")\n",
        "\n",
        "y_pred = model.predict(X_test)\n",
        "\n",
        "shap_contributions = X_test * coefs\n",
        "shap_total = shap_contributions.sum(axis=1)\n",
        "\n",
        "results = pd.DataFrame({\n",
        "    \"Actual G3\": y_test.values,\n",
        "    \"Predicted G3\": y_pred,\n",
        "    \"SHAP Total\": shap_total,\n",
        "    \"Baseline\": baseline,\n",
        "    \"Over/Under\": [\"Under\" if pred < actual else \"Over\" if pred > actual else \"Exact\"\n",
        "                   for pred, actual in zip(y_pred, y_test)]\n",
        "})\n",
        "\n",
        "for i, feature in enumerate(features):\n",
        "    results[f\"SHAP_{feature}\"] = shap_contributions[feature]\n",
        "\n",
        "pd.set_option(\"display.max_columns\", None)\n",
        "print(results.head(10))\n"
      ],
      "metadata": {
        "colab": {
          "base_uri": "https://localhost:8080/"
        },
        "id": "bXNGPn59WvOv",
        "outputId": "33a847e2-e67f-439d-81d0-edf8c9af0ad7"
      },
      "execution_count": null,
      "outputs": [
        {
          "output_type": "stream",
          "name": "stdout",
          "text": [
            "\n",
            "Model: G3 = 9.43 + 0.36*studytime + -2.07*failures + 0.03*absences + 0.65*Medu + -0.41*Fedu\n",
            "Baseline (mean final grade G3): 10.39\n",
            "     Actual G3  Predicted G3  SHAP Total   Baseline Over/Under  \\\n",
            "78          10      4.525151   -4.902063  10.385135      Under   \n",
            "371         12      9.702657    0.275443  10.385135      Under   \n",
            "248          5      9.030174   -0.397040  10.385135       Over   \n",
            "55          10     11.271734    1.844520  10.385135       Over   \n",
            "390          9      6.809595   -2.617619  10.385135      Under   \n",
            "223         13     10.622006    1.194792  10.385135      Under   \n",
            "42          18     11.161360    1.734146  10.385135      Under   \n",
            "234          6     10.918486    1.491272  10.385135       Over   \n",
            "316          0     11.033352    1.606139  10.385135       Over   \n",
            "116         14     11.161360    1.734146  10.385135      Under   \n",
            "\n",
            "     SHAP_studytime  SHAP_failures  SHAP_absences  SHAP_Medu  SHAP_Fedu  \n",
            "78         0.357517      -6.210280       0.059595   1.302451  -0.411346  \n",
            "371        0.357517      -0.000000       0.089393   0.651225  -0.822692  \n",
            "248        0.715034      -2.070093       0.238382   1.953676  -1.234038  \n",
            "55         0.715034      -0.000000       0.238382   1.302451  -0.411346  \n",
            "390        0.715034      -4.140187       0.327775   1.302451  -0.822692  \n",
            "223        0.715034      -0.000000       0.000000   1.302451  -0.822692  \n",
            "42         0.715034      -0.000000       0.059595   2.604902  -1.645385  \n",
            "234        0.715034      -0.000000       0.536359   0.651225  -0.411346  \n",
            "316        0.715034      -0.000000       0.000000   1.302451  -0.411346  \n",
            "116        0.715034      -0.000000       0.059595   2.604902  -1.645385  \n"
          ]
        }
      ]
    }
  ]
}